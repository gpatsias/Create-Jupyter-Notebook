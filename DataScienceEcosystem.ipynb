{
 "cells": [
  {
   "cell_type": "markdown",
   "id": "a5e973e1",
   "metadata": {},
   "source": [
    "# Data Science Tools and Ecosystem"
   ]
  },
  {
   "cell_type": "markdown",
   "id": "884b3646",
   "metadata": {},
   "source": [
    "## Author\n",
    "George Patsias"
   ]
  },
  {
   "cell_type": "markdown",
   "id": "5e1dfbe1",
   "metadata": {},
   "source": [
    "## In this notebook, Data Science Tools and Ecosystem are summarized."
   ]
  },
  {
   "cell_type": "markdown",
   "id": "8992c90a",
   "metadata": {},
   "source": [
    "**Objectives:**  \n",
    "\n",
    "- Python\n",
    "- R\n",
    "- SQL\n",
    "- Java\n",
    "- Scala\n",
    "- JavaScript"
   ]
  },
  {
   "cell_type": "markdown",
   "id": "f60cc836",
   "metadata": {},
   "source": [
    "### Some of the popular languages that Data Scientists use are:\n",
    "1. Python\n",
    "2. R\n",
    "3. SQL\n",
    "4. Java\n",
    "5. Scala\n",
    "6. JavaScript"
   ]
  },
  {
   "cell_type": "markdown",
   "id": "647d0e3a",
   "metadata": {},
   "source": [
    "### Some of the commonly used libraries used by Data Scientists include:\n",
    "1. TensorFlow\n",
    "2. scikit-learn\n",
    "3. PyTorch\n",
    "4. Keras\n",
    "5. NumPy\n",
    "6. Pandas"
   ]
  },
  {
   "cell_type": "markdown",
   "id": "c1888c55",
   "metadata": {},
   "source": [
    "\n",
    "|Data Science Tools|\n",
    "|----|\n",
    "|TensorFlow|\n",
    "|Apache Spark|\n",
    "|Apache Hadoop|\n",
    "|Scikit-learn|\n",
    "|MongoDB|\n"
   ]
  },
  {
   "cell_type": "markdown",
   "id": "54872ca3",
   "metadata": {},
   "source": [
    "### Below are a few examples of evaluating arithmetic expressions in Python"
   ]
  },
  {
   "cell_type": "code",
   "execution_count": 13,
   "id": "ef373be2",
   "metadata": {},
   "outputs": [
    {
     "data": {
      "text/plain": [
       "17"
      ]
     },
     "execution_count": 13,
     "metadata": {},
     "output_type": "execute_result"
    }
   ],
   "source": [
    "# This a simple arithmetic expression to mutiply then add integers\n",
    "(3*4)+5"
   ]
  },
  {
   "cell_type": "code",
   "execution_count": 14,
   "id": "6d10c8ab",
   "metadata": {},
   "outputs": [
    {
     "name": "stdout",
     "output_type": "stream",
     "text": [
      "200  minutes is equals to  3.33  hours\n"
     ]
    }
   ],
   "source": [
    "# This will convert 200 minutes to hours by diving by 60\n",
    "def minutes_to_hours(minutes):\n",
    "    hours = minutes/60\n",
    "    print(minutes, \" minutes is equals to \", round(hours,2), \" hours\")\n",
    "\n",
    "minutes_to_hours(200)"
   ]
  },
  {
   "cell_type": "code",
   "execution_count": null,
   "id": "b4b1d656",
   "metadata": {},
   "outputs": [],
   "source": []
  },
  {
   "cell_type": "code",
   "execution_count": null,
   "id": "2876e6ea",
   "metadata": {},
   "outputs": [],
   "source": []
  },
  {
   "cell_type": "code",
   "execution_count": null,
   "id": "f8e634d6",
   "metadata": {},
   "outputs": [],
   "source": []
  }
 ],
 "metadata": {
  "kernelspec": {
   "display_name": "Python 3 (ipykernel)",
   "language": "python",
   "name": "python3"
  },
  "language_info": {
   "codemirror_mode": {
    "name": "ipython",
    "version": 3
   },
   "file_extension": ".py",
   "mimetype": "text/x-python",
   "name": "python",
   "nbconvert_exporter": "python",
   "pygments_lexer": "ipython3",
   "version": "3.11.4"
  }
 },
 "nbformat": 4,
 "nbformat_minor": 5
}
